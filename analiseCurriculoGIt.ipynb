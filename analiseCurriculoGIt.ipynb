{
 "cells": [
  {
   "cell_type": "code",
   "execution_count": null,
   "id": "d3ea423d",
   "metadata": {},
   "outputs": [
    {
     "name": "stdout",
     "output_type": "stream",
     "text": [
      "\n",
      "📛 Nome: Johnatan \n",
      "🔐 Login: johnatan-si\n",
      "🖼️ Foto de perfil: https://avatars.githubusercontent.com/u/8726738?v=4\n",
      "\n",
      "⚠️ Erro ao acessar SourceLearning-: Git Repository is empty.: 409 {\"message\": \"Git Repository is empty.\", \"documentation_url\": \"https://docs.github.com/rest/commits/commits#list-commits\", \"status\": \"409\"}\n",
      "\n",
      "📊 Top 5 linguagens mais ativas (por número de commits):\n",
      "➡️ Java: 246 commits\n",
      "➡️ Dockerfile: 111 commits\n",
      "➡️ Python: 81 commits\n",
      "➡️ Makefile: 59 commits\n",
      "➡️ AspectJ: 58 commits\n",
      "\n",
      "📂 Repositórios por linguagem (Top 5):\n",
      "\n",
      "🗂️ Java:\n",
      "   - astar0;2\n",
      "   - AulasPUCMG;60\n",
      "   - demo-ci;56\n",
      "   - DownloadGit;2\n",
      "   - extractgit;1\n",
      "   - GitBlame;8\n",
      "   - JExpert;1\n",
      "   - JExpert2.0;1\n",
      "   - jreuse;12\n",
      "   - JSERD2020;43\n",
      "   - LineCounter;2\n",
      "   - ufmg.reuso.software;58\n",
      "\n",
      "🗂️ Dockerfile:\n",
      "   - F03_API;62\n",
      "   - PUC-GCES-Tutoriais;49\n",
      "\n",
      "🗂️ Python:\n",
      "   - aula-ci;4\n",
      "   - F03_API;62\n",
      "   - github_recommend;3\n",
      "   - LinesOfCodeCounter;5\n",
      "   - PUC-GCES-JS;4\n",
      "   - PUC-GCES-PY;3\n",
      "\n",
      "🗂️ Makefile:\n",
      "   - demo-ci;56\n",
      "   - github_recommend;3\n",
      "\n",
      "🗂️ AspectJ:\n",
      "   - ufmg.reuso.software;58\n"
     ]
    }
   ],
   "source": [
    "from github import Github\n",
    "from collections import Counter, defaultdict\n",
    "\n",
    "GITHUB_TOKEN = \"my token\"\n",
    "USERNAME = \"johnatan-si\"\n",
    "\n",
    "g = Github(GITHUB_TOKEN)\n",
    "user = g.get_user(USERNAME)\n",
    "\n",
    "print(f\"\\n📛 Nome: {user.name}\")\n",
    "print(f\"🔐 Login: {user.login}\")\n",
    "print(f\"🖼️ Foto de perfil: {user.avatar_url}\\n\")\n",
    "\n",
    "fotoPerfil = user.avatar_url\n",
    "languageCommitCounter = Counter()\n",
    "reposLanguage = defaultdict(list)\n",
    "\n",
    "for repo in user.get_repos():\n",
    "    try:\n",
    "        commits = repo.get_commits()\n",
    "        commit_count = commits.totalCount\n",
    "        langs = repo.get_languages()\n",
    "\n",
    "        for lang in langs:\n",
    "            languageCommitCounter[lang] += commit_count\n",
    "            reposLanguage[lang].append(f\"{repo.name};{commit_count}\")\n",
    "\n",
    "    except Exception as e:\n",
    "        print(f\"⚠️ Erro ao acessar {repo.name}: {e}\")\n",
    "\n",
    "top_5_languages = languageCommitCounter.most_common(5)\n",
    "top5ReposLanguage = {lang: reposLanguage[lang] for lang, _ in top_5_languages}\n",
    "\n",
    "print(\"\\n📊 Top 5 linguagens mais ativas (por número de commits):\")\n",
    "for lang, total_commits in top_5_languages:\n",
    "    print(f\"➡️ {lang}: {total_commits} commits\")\n",
    "\n",
    "print(\"\\n📂 Repositórios por linguagem (Top 5):\")\n",
    "for lang, repos in top5ReposLanguage.items():\n",
    "    print(f\"\\n🗂️ {lang}:\")\n",
    "    for repo_info in repos:\n",
    "        print(f\"   - {repo_info}\")\n"
   ]
  },
  {
   "cell_type": "code",
   "execution_count": 25,
   "id": "ead24f1a",
   "metadata": {},
   "outputs": [
    {
     "name": "stdout",
     "output_type": "stream",
     "text": [
      "Counter({'Java': 246, 'Dockerfile': 111, 'Python': 81, 'Makefile': 59, 'AspectJ': 58, 'Shell': 52, 'Jupyter Notebook': 7, 'C': 6, 'JavaScript': 4, 'HTML': 4, 'CSS': 4})\n",
      "{'Java': ['astar0;2', 'AulasPUCMG;60', 'demo-ci;56', 'DownloadGit;2', 'extractgit;1', 'GitBlame;8', 'JExpert;1', 'JExpert2.0;1', 'jreuse;12', 'JSERD2020;43', 'LineCounter;2', 'ufmg.reuso.software;58'], 'Dockerfile': ['F03_API;62', 'PUC-GCES-Tutoriais;49'], 'Python': ['aula-ci;4', 'F03_API;62', 'github_recommend;3', 'LinesOfCodeCounter;5', 'PUC-GCES-JS;4', 'PUC-GCES-PY;3'], 'Makefile': ['demo-ci;56', 'github_recommend;3'], 'AspectJ': ['ufmg.reuso.software;58']}\n",
      "https://avatars.githubusercontent.com/u/8726738?v=4\n"
     ]
    }
   ],
   "source": [
    "print(languageCommitCounter)\n",
    "print(top5ReposLanguage)\n",
    "print(fotoPerfil)\n"
   ]
  },
  {
   "cell_type": "code",
   "execution_count": null,
   "id": "9fdda9e5",
   "metadata": {},
   "outputs": [
    {
     "name": "stdout",
     "output_type": "stream",
     "text": [
      "\n",
      "📊 Gerando gráficos por linguagem...\n",
      "✅ Gráfico salvo: graficos_linguagens/Java_commits.png\n",
      "✅ Gráfico salvo: graficos_linguagens/Dockerfile_commits.png\n",
      "✅ Gráfico salvo: graficos_linguagens/Python_commits.png\n",
      "✅ Gráfico salvo: graficos_linguagens/Makefile_commits.png\n",
      "✅ Gráfico salvo: graficos_linguagens/AspectJ_commits.png\n"
     ]
    }
   ],
   "source": [
    "import matplotlib.pyplot as plt\n",
    "import os\n",
    "\n",
    "output_dir = \"graficos_linguagens\"\n",
    "os.makedirs(output_dir, exist_ok=True)\n",
    "\n",
    "print(\"\\n📊 Gerando gráficos por linguagem...\")\n",
    "\n",
    "for lang, repos in top5ReposLanguage.items():\n",
    "    nomes_repos = []\n",
    "    commits = []\n",
    "\n",
    "    for entry in repos:\n",
    "        nome, commit_str = entry.split(\";\")\n",
    "        nomes_repos.append(nome)\n",
    "        commits.append(int(commit_str))\n",
    "\n",
    "    n_repos = len(repos)\n",
    "    largura_barra = 0.8 if n_repos > 1 else 0.4 \n",
    "\n",
    "    plt.figure(figsize=(10, 6))\n",
    "\n",
    "    plt.bar(nomes_repos, commits, color='skyblue', width=largura_barra)\n",
    "\n",
    "    if n_repos == 1:\n",
    "        plt.xlim(-0.5, 0.5) \n",
    "    plt.title(f\"Commits por repositório - {lang}\")\n",
    "    plt.xlabel(\"Repositórios\")\n",
    "    plt.ylabel(\"Commits\")\n",
    "    plt.xticks(rotation=45, ha='right')\n",
    "    plt.tight_layout()\n",
    "\n",
    "    filepath = os.path.join(output_dir, f\"{lang}_commits.png\")\n",
    "    plt.savefig(filepath)\n",
    "    plt.close()\n",
    "\n",
    "    print(f\"✅ Gráfico salvo: {filepath}\")\n"
   ]
  }
 ],
 "metadata": {
  "kernelspec": {
   "display_name": "Python 3",
   "language": "python",
   "name": "python3"
  },
  "language_info": {
   "codemirror_mode": {
    "name": "ipython",
    "version": 3
   },
   "file_extension": ".py",
   "mimetype": "text/x-python",
   "name": "python",
   "nbconvert_exporter": "python",
   "pygments_lexer": "ipython3",
   "version": "3.10.12"
  }
 },
 "nbformat": 4,
 "nbformat_minor": 5
}
