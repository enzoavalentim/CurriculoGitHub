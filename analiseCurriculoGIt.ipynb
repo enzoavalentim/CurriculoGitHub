{
 "cells": [
  {
   "cell_type": "code",
   "execution_count": null,
   "id": "d3ea423d",
   "metadata": {},
   "outputs": [
    {
     "name": "stdout",
     "output_type": "stream",
     "text": [
      "\n",
      "📛 Nome: The Octocat\n",
      "🔐 Login: octocat\n",
      "🖼️ Foto de perfil: https://avatars.githubusercontent.com/u/583231?v=4\n",
      "\n",
      "\n",
      "📊 Top 5 linguagens mais ativas (por número de commits):\n",
      "➡️ Ruby: 5166 commits\n",
      "➡️ Shell: 5166 commits\n",
      "➡️ CSS: 7 commits\n",
      "➡️ HTML: 7 commits\n",
      "➡️ JavaScript: 4 commits\n",
      "\n",
      "📂 Repositórios por linguagem (Top 5):\n",
      "\n",
      "🗂️ Ruby:\n",
      "   - linguist\n",
      "\n",
      "🗂️ Shell:\n",
      "   - linguist\n",
      "\n",
      "🗂️ CSS:\n",
      "   - octocat.github.io\n",
      "   - Spoon-Knife\n",
      "\n",
      "🗂️ HTML:\n",
      "   - octocat.github.io\n",
      "   - Spoon-Knife\n",
      "\n",
      "🗂️ JavaScript:\n",
      "   - octocat.github.io\n"
     ]
    }
   ],
   "source": [
    "from github import Github\n",
    "from collections import Counter, defaultdict\n",
    "\n",
    "\n",
    "GITHUB_TOKEN = \"token\"\n",
    "USERNAME = \"octocat\"\n",
    "\n",
    "g = Github(GITHUB_TOKEN)\n",
    "user = g.get_user(USERNAME)\n",
    "\n",
    "print(f\"\\n📛 Nome: {user.name}\")\n",
    "print(f\"🔐 Login: {user.login}\")\n",
    "print(f\"🖼️ Foto de perfil: {user.avatar_url}\\n\")\n",
    "\n",
    "\n",
    "languageCommitCounter = Counter()\n",
    "reposLanguage = defaultdict(list)\n",
    "\n",
    "for repo in user.get_repos():\n",
    "    try:\n",
    "        commits = repo.get_commits()\n",
    "        commit_count = commits.totalCount\n",
    "        langs = repo.get_languages()\n",
    "\n",
    "        for lang in langs:\n",
    "            languageCommitCounter[lang] += commit_count\n",
    "            reposLanguage[lang].append(repo.name)\n",
    "\n",
    "    except Exception as e:\n",
    "        print(f\"⚠️ Erro ao acessar {repo.name}: {e}\")\n",
    "\n",
    "top_5_languages = languageCommitCounter.most_common(5)\n",
    "\n",
    "print(\"\\n📊 Top 5 linguagens mais ativas (por número de commits):\")\n",
    "for lang, total_commits in top_5_languages:\n",
    "    print(f\"➡️ {lang}: {total_commits} commits\")\n",
    "\n",
    "print(\"\\n📂 Repositórios por linguagem (Top 5):\")\n",
    "for lang, _ in top_5_languages:\n",
    "    print(f\"\\n🗂️ {lang}:\")\n",
    "    for repo in reposLanguage[lang]:\n",
    "        print(f\"   - {repo}\")\n"
   ]
  },
  {
   "cell_type": "code",
   "execution_count": 14,
   "id": "ead24f1a",
   "metadata": {},
   "outputs": [
    {
     "name": "stdout",
     "output_type": "stream",
     "text": [
      "Counter({'Ruby': 5166, 'Shell': 5166, 'CSS': 7, 'HTML': 7, 'JavaScript': 4})\n",
      "defaultdict(<class 'list'>, {'Ruby': ['linguist'], 'Shell': ['linguist'], 'CSS': ['octocat.github.io', 'Spoon-Knife'], 'HTML': ['octocat.github.io', 'Spoon-Knife'], 'JavaScript': ['octocat.github.io']})\n"
     ]
    }
   ],
   "source": [
    "print(languageCommitCounter)\n",
    "print(reposLanguage)"
   ]
  }
 ],
 "metadata": {
  "kernelspec": {
   "display_name": "Python 3",
   "language": "python",
   "name": "python3"
  },
  "language_info": {
   "codemirror_mode": {
    "name": "ipython",
    "version": 3
   },
   "file_extension": ".py",
   "mimetype": "text/x-python",
   "name": "python",
   "nbconvert_exporter": "python",
   "pygments_lexer": "ipython3",
   "version": "3.10.12"
  }
 },
 "nbformat": 4,
 "nbformat_minor": 5
}
