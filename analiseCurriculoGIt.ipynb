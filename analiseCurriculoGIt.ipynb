{
 "cells": [
  {
   "cell_type": "code",
   "execution_count": null,
   "id": "d3ea423d",
   "metadata": {},
   "outputs": [
    {
     "name": "stdout",
     "output_type": "stream",
     "text": [
      "\n",
      "📛 Nome: None\n",
      "🔐 Login: enzoavalentim\n",
      "🖼️ Foto de perfil: https://avatars.githubusercontent.com/u/163206784?v=4\n",
      "\n",
      "\n",
      "📊 Top 5 linguagens mais ativas (por número de commits):\n",
      "➡️ Jupyter Notebook: 4 commits\n",
      "➡️ Python: 3 commits\n",
      "➡️ Java: 2 commits\n",
      "➡️ C++: 1 commits\n",
      "➡️ C: 1 commits\n",
      "\n",
      "📂 Repositórios por linguagem (Top 5):\n",
      "\n",
      "🗂️ Jupyter Notebook:\n",
      "   - Analise-de-dados-agricolas-Disciplina-Estatistica-2024-02;2\n",
      "   - CurriculoGitHub;2\n",
      "\n",
      "🗂️ Python:\n",
      "   - Estudos-Iniciais-Em-Python;2\n",
      "   - Trabalhos-Praticos-Programacao-de-Computadores-e-Resolucao-de-Problemas---Python-2023-02;1\n",
      "\n",
      "🗂️ Java:\n",
      "   - Trabalhos-POO-2024-01;2\n",
      "\n",
      "🗂️ C++:\n",
      "   - Estrurua-de-dados-2024-02;1\n",
      "\n",
      "🗂️ C:\n",
      "   - Estrurua-de-dados-2024-02;1\n"
     ]
    }
   ],
   "source": [
    "from github import Github\n",
    "from collections import Counter, defaultdict\n",
    "\n",
    "GITHUB_TOKEN = \"my token\"\n",
    "USERNAME = \"enzoavalentim\"\n",
    "\n",
    "g = Github(GITHUB_TOKEN)\n",
    "user = g.get_user(USERNAME)\n",
    "\n",
    "print(f\"\\n📛 Nome: {user.name}\")\n",
    "print(f\"🔐 Login: {user.login}\")\n",
    "print(f\"🖼️ Foto de perfil: {user.avatar_url}\\n\")\n",
    "\n",
    "fotoPerfil = user.avatar_url\n",
    "languageCommitCounter = Counter()\n",
    "reposLanguage = defaultdict(list)\n",
    "\n",
    "for repo in user.get_repos():\n",
    "    try:\n",
    "        commits = repo.get_commits()\n",
    "        commit_count = commits.totalCount\n",
    "        langs = repo.get_languages()\n",
    "\n",
    "        for lang in langs:\n",
    "            languageCommitCounter[lang] += commit_count\n",
    "            reposLanguage[lang].append(f\"{repo.name};{commit_count}\")\n",
    "\n",
    "    except Exception as e:\n",
    "        print(f\"⚠️ Erro ao acessar {repo.name}: {e}\")\n",
    "\n",
    "top_5_languages = languageCommitCounter.most_common(5)\n",
    "\n",
    "print(\"\\n📊 Top 5 linguagens mais ativas (por número de commits):\")\n",
    "for lang, total_commits in top_5_languages:\n",
    "    print(f\"➡️ {lang}: {total_commits} commits\")\n",
    "\n",
    "print(\"\\n📂 Repositórios por linguagem (Top 5):\")\n",
    "for lang, _ in top_5_languages:\n",
    "    print(f\"\\n🗂️ {lang}:\")\n",
    "    for repo_info in reposLanguage[lang]:\n",
    "        print(f\"   - {repo_info}\")  \n"
   ]
  },
  {
   "cell_type": "code",
   "execution_count": 11,
   "id": "ead24f1a",
   "metadata": {},
   "outputs": [
    {
     "name": "stdout",
     "output_type": "stream",
     "text": [
      "Counter({'Jupyter Notebook': 4, 'Python': 3, 'Java': 2, 'C++': 1, 'C': 1, 'HTML': 1})\n",
      "defaultdict(<class 'list'>, {'Jupyter Notebook': ['Analise-de-dados-agricolas-Disciplina-Estatistica-2024-02;2', 'CurriculoGitHub;2'], 'C++': ['Estrurua-de-dados-2024-02;1'], 'C': ['Estrurua-de-dados-2024-02;1'], 'Python': ['Estudos-Iniciais-Em-Python;2', 'Trabalhos-Praticos-Programacao-de-Computadores-e-Resolucao-de-Problemas---Python-2023-02;1'], 'HTML': ['RepositorioCursoGit;1'], 'Java': ['Trabalhos-POO-2024-01;2']})\n",
      "https://avatars.githubusercontent.com/u/163206784?v=4\n"
     ]
    }
   ],
   "source": [
    "print(languageCommitCounter)\n",
    "print(reposLanguage)\n",
    "print(fotoPerfil)\n"
   ]
  },
  {
   "cell_type": "markdown",
   "id": "3a626e18",
   "metadata": {},
   "source": []
  }
 ],
 "metadata": {
  "kernelspec": {
   "display_name": "Python 3",
   "language": "python",
   "name": "python3"
  },
  "language_info": {
   "codemirror_mode": {
    "name": "ipython",
    "version": 3
   },
   "file_extension": ".py",
   "mimetype": "text/x-python",
   "name": "python",
   "nbconvert_exporter": "python",
   "pygments_lexer": "ipython3",
   "version": "3.10.12"
  }
 },
 "nbformat": 4,
 "nbformat_minor": 5
}
